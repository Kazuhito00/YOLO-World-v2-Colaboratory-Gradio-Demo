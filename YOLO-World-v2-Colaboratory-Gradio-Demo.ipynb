{
  "nbformat": 4,
  "nbformat_minor": 0,
  "metadata": {
    "colab": {
      "provenance": []
    },
    "kernelspec": {
      "name": "python3",
      "display_name": "Python 3"
    },
    "language_info": {
      "name": "python"
    }
  },
  "cells": [
    {
      "cell_type": "markdown",
      "source": [
        "# openmimインストール（要セッション再起動）"
      ],
      "metadata": {
        "id": "mm7uGMSPls1L"
      }
    },
    {
      "cell_type": "code",
      "source": [
        "!pip install openmim"
      ],
      "metadata": {
        "id": "fr8Gz9-IuEeM"
      },
      "execution_count": null,
      "outputs": []
    },
    {
      "cell_type": "markdown",
      "source": [
        "# リポジトリクローン"
      ],
      "metadata": {
        "id": "cmEYHuFKmTsu"
      }
    },
    {
      "cell_type": "code",
      "execution_count": null,
      "metadata": {
        "id": "y6D7CZgcpnnE"
      },
      "outputs": [],
      "source": [
        "!git clone --recursive https://github.com/AILab-CVC/YOLO-World\n",
        "%cd YOLO-World\n",
        "# !git checkout 4bc77c9b9547610d91182e14637df1ca191721fb  # ノートブック生成時のSHA"
      ]
    },
    {
      "cell_type": "markdown",
      "source": [
        "# 必要パッケージインストール"
      ],
      "metadata": {
        "id": "8Jq2Q5stmgRr"
      }
    },
    {
      "cell_type": "code",
      "source": [
        "!pip install torch==2.0.1 torchvision==0.15.2 torchaudio==2.0.2 --index-url https://download.pytorch.org/whl/cu118\n",
        "!mim install mmcv==2.0.1\n",
        "!pip install mmdet>=3.0.0\n",
        "!pip install mmyolo\n",
        "!pip install mmengine>=0.7.1\n",
        "!pip install onnx\n",
        "!pip install onnxruntime-gpu\n",
        "!pip install onnx-simplifier\n",
        "!pip install gradio==4.16.0\n",
        "!pip install supervision==0.16.0"
      ],
      "metadata": {
        "id": "tMdyujrsqCWy"
      },
      "execution_count": null,
      "outputs": []
    },
    {
      "cell_type": "markdown",
      "source": [
        "# 重みダウンロード"
      ],
      "metadata": {
        "id": "1rqaLenMmlC4"
      }
    },
    {
      "cell_type": "code",
      "source": [
        "# https://github.com/AILab-CVC/YOLO-World?tab=readme-ov-file#zero-shot-inference-on-lvis-dataset\n",
        "\n",
        "model_list = []\n",
        "\n",
        "# データセット：O365+GoldG\n",
        "# YOLO-Worldv2-S(640)\n",
        "!wget https://huggingface.co/wondervictor/YOLO-World/resolve/main/yolo_world_v2_s_obj365v1_goldg_pretrain-55b943ea.pth -O yolo_world_v2_s_obj365v1_goldg_pretrain-55b943ea.pth\n",
        "model_list.append({\n",
        "    'name':'YOLO-Worldv2-S-640(O365+GoldG)',\n",
        "    'config':'configs/pretrain/yolo_world_v2_s_vlpan_bn_2e-3_100e_4x8gpus_obj365v1_goldg_train_lvis_minival.py',\n",
        "    'checkpoint':'yolo_world_v2_s_obj365v1_goldg_pretrain-55b943ea.pth',\n",
        "})\n",
        "# YOLO-Worldv2-S(1280)\n",
        "!wget https://huggingface.co/wondervictor/YOLO-World/resolve/main/yolo_world_v2_s_obj365v1_goldg_pretrain_1280ft-fc4ff4f7.pth -O yolo_world_v2_s_obj365v1_goldg_pretrain_1280ft-fc4ff4f7.pth\n",
        "model_list.append({\n",
        "    'name':'YOLO-Worldv2-S-1280(O365+GoldG)',\n",
        "    'config':'configs/pretrain/yolo_world_v2_s_vlpan_bn_2e-3_100e_4x8gpus_obj365v1_goldg_train_1280ft_lvis_minival.py',\n",
        "    'checkpoint':'yolo_world_v2_s_obj365v1_goldg_pretrain_1280ft-fc4ff4f7.pth',\n",
        "})\n",
        "# YOLO-Worldv2-M(640)\n",
        "!wget https://huggingface.co/wondervictor/YOLO-World/resolve/main/yolo_world_v2_m_obj365v1_goldg_pretrain-c6237d5b.pth -O yolo_world_v2_m_obj365v1_goldg_pretrain-c6237d5b.pth\n",
        "model_list.append({\n",
        "    'name':'YOLO-Worldv2-M-640(O365+GoldG)',\n",
        "    'config':'configs/pretrain/yolo_world_v2_m_vlpan_bn_2e-3_100e_4x8gpus_obj365v1_goldg_train_lvis_minival.py',\n",
        "    'checkpoint':'yolo_world_v2_m_obj365v1_goldg_pretrain-c6237d5b.pth',\n",
        "})\n",
        "# YOLO-Worldv2-M(1280)\n",
        "!wget https://huggingface.co/wondervictor/YOLO-World/resolve/main/yolo_world_v2_m_obj365v1_goldg_pretrain_1280ft-77d0346d.pth -O yolo_world_v2_m_obj365v1_goldg_pretrain_1280ft-77d0346d.pth\n",
        "model_list.append({\n",
        "    'name':'YOLO-Worldv2-M-1280(O365+GoldG)',\n",
        "    'config':'configs/pretrain/yolo_world_v2_m_vlpan_bn_2e-3_100e_4x8gpus_obj365v1_goldg_train_1280ft_lvis_minival.py',\n",
        "    'checkpoint':'yolo_world_v2_m_obj365v1_goldg_pretrain_1280ft-77d0346d.pth',\n",
        "})\n",
        "# YOLO-Worldv2-L(640)\n",
        "!wget https://huggingface.co/wondervictor/YOLO-World/resolve/main/yolo_world_v2_l_obj365v1_goldg_pretrain-a82b1fe3.pth -O yolo_world_v2_l_obj365v1_goldg_pretrain-a82b1fe3.pth\n",
        "model_list.append({\n",
        "    'name':'YOLO-Worldv2-L-640(O365+GoldG)',\n",
        "    'config':'configs/pretrain/yolo_world_v2_l_vlpan_bn_2e-3_100e_4x8gpus_obj365v1_goldg_train_lvis_minival.py',\n",
        "    'checkpoint':'yolo_world_v2_l_obj365v1_goldg_pretrain-a82b1fe3.pth',\n",
        "})\n",
        "# YOLO-Worldv2-L(1280)\n",
        "!wget https://huggingface.co/wondervictor/YOLO-World/resolve/main/yolo_world_v2_l_obj365v1_goldg_pretrain_1280ft-9babe3f6.pth -O yolo_world_v2_l_obj365v1_goldg_pretrain_1280ft-9babe3f6.pth\n",
        "model_list.append({\n",
        "    'name':'YOLO-Worldv2-L-1280(O365+GoldG)',\n",
        "    'config':'configs/pretrain/yolo_world_v2_l_vlpan_bn_2e-3_100e_4x8gpus_obj365v1_goldg_train_1280ft_lvis_minival.py',\n",
        "    'checkpoint':'yolo_world_v2_l_obj365v1_goldg_pretrain_1280ft-9babe3f6.pth',\n",
        "})\n",
        "# YOLO-Worldv2-L (CLIP-Large)(640)\n",
        "!wget https://huggingface.co/wondervictor/YOLO-World/resolve/main/yolo_world_v2_l_clip_large_o365v1_goldg_pretrain-8ff2e744.pth -O yolo_world_v2_l_clip_large_o365v1_goldg_pretrain-8ff2e744.pth\n",
        "model_list.append({\n",
        "    'name':'YOLO-Worldv2-L-CLIP-Large-640(O365+GoldG)',\n",
        "    'config':'configs/pretrain/yolo_world_v2_l_clip_large_vlpan_bn_2e-3_100e_4x8gpus_obj365v1_goldg_train_lvis_minival.py',\n",
        "    'checkpoint':'yolo_world_v2_l_clip_large_o365v1_goldg_pretrain-8ff2e744.pth',\n",
        "})\n",
        "# YOLO-Worldv2-L (CLIP-Large)(800)\n",
        "!wget https://huggingface.co/wondervictor/YOLO-World/resolve/main/yolo_world_v2_l_clip_large_o365v1_goldg_pretrain_800ft-9df82e55.pth -O yolo_world_v2_l_clip_large_o365v1_goldg_pretrain_800ft-9df82e55.pth\n",
        "model_list.append({\n",
        "    'name':'YOLO-Worldv2-L-CLIP-Large-800(O365+GoldG)',\n",
        "    'config':'configs/pretrain/yolo_world_v2_l_clip_large_vlpan_bn_2e-3_100e_4x8gpus_obj365v1_goldg_train_800ft_lvis_minival.py',\n",
        "    'checkpoint':'yolo_world_v2_l_clip_large_o365v1_goldg_pretrain_800ft-9df82e55.pth',\n",
        "})\n",
        "\n",
        "# O365+GoldG+CC3M-Lite\n",
        "# YOLO-Worldv2-L(640)\n",
        "!wget https://huggingface.co/wondervictor/YOLO-World/resolve/main/yolo_world_v2_l_obj365v1_goldg_cc3mlite_pretrain-ca93cd1f.pth -O yolo_world_v2_l_obj365v1_goldg_cc3mlite_pretrain-ca93cd1f.pth\n",
        "model_list.append({\n",
        "    'name':'YOLO-Worldv2-L-640(O365+GoldG+CC3M-Lite)',\n",
        "    'config':'configs/pretrain/yolo_world_v2_l_vlpan_bn_2e-3_100e_4x8gpus_obj365v1_goldg_train_lvis_minival.py',\n",
        "    'checkpoint':'yolo_world_v2_l_obj365v1_goldg_cc3mlite_pretrain-ca93cd1f.pth',\n",
        "})\n",
        "# YOLO-Worldv2-X(640)\n",
        "!wget https://huggingface.co/wondervictor/YOLO-World/resolve/main/yolo_world_v2_x_obj365v1_goldg_cc3mlite_pretrain-8698fbfa.pth -O yolo_world_v2_x_obj365v1_goldg_cc3mlite_pretrain-8698fbfa.pth\n",
        "model_list.append({\n",
        "    'name':'YOLO-Worldv2-X-640(O365+GoldG+CC3M-Lite)',\n",
        "    'config':'configs/pretrain/yolo_world_v2_x_vlpan_bn_2e-3_100e_4x8gpus_obj365v1_goldg_train_lvis_minival.py',\n",
        "    'checkpoint':'yolo_world_v2_x_obj365v1_goldg_cc3mlite_pretrain-8698fbfa.pth',\n",
        "})\n",
        "# # YOLO-Worldv2-XL(640)\n",
        "# !wget https://huggingface.co/wondervictor/YOLO-World/resolve/main/yolo_world_v2_x_obj365v1_goldg_cc3mlite_pretrain-8698fbfa.pth -O yolo_world_v2_x_obj365v1_goldg_cc3mlite_pretrain-8698fbfa.pth\n",
        "# model_list.append({\n",
        "#     'name':'YOLO-Worldv2-XL-640(O365+GoldG+CC3M-Lite)',\n",
        "#     'config':'configs/pretrain/yolo_world_v2_xl_vlpan_bn_2e-3_100e_4x8gpus_obj365v1_goldg_train_lvis_minival.py',\n",
        "#     'checkpoint':'yolo_world_v2_x_obj365v1_goldg_cc3mlite_pretrain-8698fbfa.pth',\n",
        "# })"
      ],
      "metadata": {
        "id": "JJNNgJmRrUVM"
      },
      "execution_count": null,
      "outputs": []
    },
    {
      "cell_type": "markdown",
      "source": [
        "# Gradio：Colaboratory用準備"
      ],
      "metadata": {
        "id": "0bVkgF_KoSbE"
      }
    },
    {
      "cell_type": "code",
      "source": [
        "with open('demo.py','r') as fp:\n",
        "    file_lines = fp.read()\n",
        "file_lines = file_lines.replace(\n",
        "    \"        demo.launch(server_name='0.0.0.0',\\n                    server_port=8080)  # port 80 does not work for me\",\n",
        "    \"        demo.launch(share=True)\",\n",
        ")\n",
        "with open('demo.py','w') as fp:\n",
        "    fp.write(file_lines)"
      ],
      "metadata": {
        "id": "R3WTH6saNRLH"
      },
      "execution_count": 6,
      "outputs": []
    },
    {
      "cell_type": "code",
      "source": [
        "!mkdir work_dirs"
      ],
      "metadata": {
        "id": "0MxEZpLsv6Iw"
      },
      "execution_count": 7,
      "outputs": []
    },
    {
      "cell_type": "markdown",
      "source": [
        "# 使用モデル選択"
      ],
      "metadata": {
        "id": "l_6JF-yRoiOC"
      }
    },
    {
      "cell_type": "code",
      "source": [
        "index = 0\n",
        "\n",
        "print(model_list[index]['name'])\n",
        "config_path = model_list[index]['config']\n",
        "checkpoint_path = model_list[index]['checkpoint']"
      ],
      "metadata": {
        "colab": {
          "base_uri": "https://localhost:8080/"
        },
        "id": "6CDrGy4lBH-h",
        "outputId": "cb090d16-48ee-423f-d2c7-619046b7e5e2"
      },
      "execution_count": 8,
      "outputs": [
        {
          "output_type": "stream",
          "name": "stdout",
          "text": [
            "YOLO-Worldv2-S-640(O365+GoldG)\n"
          ]
        }
      ]
    },
    {
      "cell_type": "markdown",
      "source": [
        "# Gradioデモ起動"
      ],
      "metadata": {
        "id": "aYAa3p2xo26F"
      }
    },
    {
      "cell_type": "code",
      "source": [
        "!python demo.py $config_path $checkpoint_path"
      ],
      "metadata": {
        "id": "IJy-PVIhqMBD"
      },
      "execution_count": null,
      "outputs": []
    }
  ]
}